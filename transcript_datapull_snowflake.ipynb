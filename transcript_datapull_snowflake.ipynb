{
 "cells": [
  {
   "cell_type": "markdown",
   "metadata": {},
   "source": [
    "#### Code to get the transcript table in a data frame from snowflake\n"
   ]
  },
  {
   "cell_type": "code",
   "execution_count": null,
   "metadata": {},
   "outputs": [],
   "source": [
    "## Install the required packages (ONCE)\n",
    "pip install -r https://raw.githubusercontent.com/snowflakedb/snowflake-connector-python/v2.4.1/tested_requirements/requirements_36.reqs\n",
    "pip install --user snowflake-connector-python[pandas]"
   ]
  },
  {
   "cell_type": "code",
   "execution_count": 3,
   "metadata": {},
   "outputs": [
    {
     "name": "stdout",
     "output_type": "stream",
     "text": [
      "                                          TRANSCRIPT  \\\n",
      "0   Welcome, and thank you for standing by. At th...   \n",
      "1   Welcome, and thank you for standing by. At th...   \n",
      "2   Welcome, and thank you for standing by. [Oper...   \n",
      "3   Welcome, and thank you for standing by. At th...   \n",
      "4   Welcome, and thank you for standing by. At th...   \n",
      "\n",
      "                                               TITLE  \\\n",
      "0  International Business Machines Corporation (I...   \n",
      "1  International Business Machines Corporation (I...   \n",
      "2  International Business Machines Corp (IBM) on ...   \n",
      "3  International Business Machines Corporation (I...   \n",
      "4  International Business Machines Corporation (I...   \n",
      "\n",
      "                        DATE TICKER  \n",
      "0  Jan. 21, 2020 10:45 PM ET    IBM  \n",
      "1  Jan. 21, 2020 10:45 PM ET    IBM  \n",
      "2  Oct. 16, 2019 11:22 PM ET    IBM  \n",
      "3   Jul. 17, 2019 7:58 PM ET    IBM  \n",
      "4   Apr. 16, 2019 8:53 PM ET    IBM  \n"
     ]
    }
   ],
   "source": [
    "import pandas as pd\n",
    "import snowflake.connector \n",
    "import sqlalchemy\n",
    "\n",
    "\n",
    "\n",
    "\n",
    "\n",
    "\n",
    "# MAKING CONNECTION\n",
    "conn = snowflake.connector.connect(\n",
    "  user='Vishwap',\n",
    "  password='bedxyb-feggyc-Dyqve8',\n",
    "  account='dadavidson.west-us-2.azure',\n",
    "  warehouse='LOAD_WH',\n",
    "#  database=DATABASE,\n",
    "#  schema=SCHEMA\n",
    "  session_parameters={\n",
    "    'QUERY_TAG': 'Transcript Data Pull'\n",
    "  }\n",
    ")\n",
    "\n",
    "\n",
    "\n",
    "\n",
    "\n",
    "# MAKING CURSOR\n",
    "cur = conn.cursor()\n",
    "cur.execute(\"SELECT * FROM \"\"ANALYTICS_DB\"\".\"\"INFO_WARRIORS\"\".\"\"TRANSCRIPT\"\"\")\n",
    "\n",
    "\n",
    "\n",
    "# IGNORE PLEASE\n",
    "#cur.execute(\"SELECT DISTINCT org.NAME AS Group_Name,CONCAT('C', org.ID) AS ClientID,CARRIER,BENEFIT_TYPE, MONTHLY_TOTAL_PREMIUM FROM analytics.sch_analytics.fact_aggregate_carrier_client_products cp JOIN ANALYTICS.SCH_ANALYTICS.DIM_EMPLOYER_GROUPS deg ON cp.EMPLOYER_GROUP_ID=deg.ID JOIN benefits_raw.sch_benefits.organizations_s3 org ON org.NAME=deg.NAME\")\n",
    "#cur.execute(\"SELECT DISTINCT org.NAME AS Group_Name,CONCAT('C', org.ID) AS ClientID,CARRIER,BENEFIT_TYPE, MONTHLY_TOTAL_PREMIUM FROM analytics.sch_analytics.fact_aggregate_carrier_client_products cp JOIN ANALYTICS.SCH_ANALYTICS.DIM_EMPLOYER_GROUPS deg ON cp.EMPLOYER_GROUP_ID=deg.ID JOIN benefits_raw.sch_benefits.organizations_s3 org ON org.NAME=deg.NAME\")\n",
    "#cur.execute(\"SELECT DISTINCT org.NAME AS Group_Name FROM analytics.sch_analytics.fact_aggregate_carrier_client_products cp JOIN ANALYTICS.SCH_ANALYTICS.DIM_EMPLOYER_GROUPS deg ON cp.EMPLOYER_GROUP_ID=deg.ID JOIN benefits_raw.sch_benefits.organizations_s3 org ON org.NAME=deg.NAME\")\n",
    "#cur.execute(\"SELECT DISTINCT CARRIER,BENEFIT_TYPE FROM analytics.sch_analytics.fact_aggregate_carrier_client_products cp JOIN ANALYTICS.SCH_ANALYTICS.DIM_EMPLOYER_GROUPS deg ON cp.EMPLOYER_GROUP_ID=deg.ID JOIN benefits_raw.sch_benefits.organizations_s3 org ON org.NAME=deg.NAME\")\n",
    "\n",
    "\n",
    "\n",
    "\n",
    "# EXPORTING DATA to a pandas dataframe\n",
    "transcript_df = cur.fetch_pandas_all()\n"
   ]
  }
 ],
 "metadata": {
  "kernelspec": {
   "display_name": "Python 3",
   "language": "python",
   "name": "python3"
  },
  "language_info": {
   "codemirror_mode": {
    "name": "ipython",
    "version": 3
   },
   "file_extension": ".py",
   "mimetype": "text/x-python",
   "name": "python",
   "nbconvert_exporter": "python",
   "pygments_lexer": "ipython3",
   "version": "3.7.4"
  }
 },
 "nbformat": 4,
 "nbformat_minor": 2
}
